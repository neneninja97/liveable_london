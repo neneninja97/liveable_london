{
 "cells": [
  {
   "cell_type": "markdown",
   "id": "27bc0769-21ae-4721-9814-b81df3d60f77",
   "metadata": {},
   "source": [
    "#### 6 - from crime data"
   ]
  },
  {
   "cell_type": "code",
   "execution_count": null,
   "id": "6d67472c-48cd-4475-9d59-c0d7edabf23a",
   "metadata": {},
   "outputs": [],
   "source": [
    "# Reading in crime data\n",
    "\n",
    "file = os.path.join('data', 'raw', 'MPS_Ward_Level_Crime_Historic_OldWardtoMar2010.csv')\n",
    "cols = ['Ward Name', 'Ward Code', 'Minor Category', '200901', '200902', '200903', '200904',\n",
    "       '200905', '200906', '200907', '200908', '200909', '200910', '200911', '200912']\n",
    "\n",
    "df_crime = pd.read_csv(file, usecols = cols, encoding= 'unicode_escape')"
   ]
  },
  {
   "cell_type": "code",
   "execution_count": null,
   "id": "52af7f9e-5dee-4e09-95a2-c0f82e50aa99",
   "metadata": {},
   "outputs": [],
   "source": [
    "# Select only Domestic Burglary\n",
    "\n",
    "df_crime = df_crime.loc[(df_crime['Minor Category'] == 'Burglary in a Dwelling')]"
   ]
  },
  {
   "cell_type": "code",
   "execution_count": null,
   "id": "90c683b5-afdd-47b2-93c9-7e65e7617d4d",
   "metadata": {},
   "outputs": [],
   "source": [
    "# Find the sum of Domestic Burglaries that happened in year 2014\n",
    "\n",
    "df_crime['total2009'] = df_crime['200901'] + df_crime['200902'] + df_crime['200903'] + df_crime['200904'] + df_crime['200905'] + df_crime['200906'] + df_crime['200907'] + df_crime['200908'] + df_crime['200909'] + df_crime['200910'] + df_crime['200911'] + df_crime['200912']"
   ]
  },
  {
   "cell_type": "code",
   "execution_count": null,
   "id": "93720f92-90e7-4528-a9c4-2440436eb83c",
   "metadata": {},
   "outputs": [],
   "source": [
    "df_crime = df_crime[['Ward Name', 'Ward Code', 'Minor Category', 'total2009']]"
   ]
  },
  {
   "cell_type": "code",
   "execution_count": null,
   "id": "d1658be0-cb57-45b3-8406-d141434e2afb",
   "metadata": {},
   "outputs": [],
   "source": [
    "df_crime.head()"
   ]
  },
  {
   "cell_type": "code",
   "execution_count": null,
   "id": "caebddc9-280c-4b25-b640-2ed0b8224dbc",
   "metadata": {},
   "outputs": [],
   "source": [
    "# Read in population data of wards\n",
    "\n",
    "file = os.path.join('data', 'raw', 'housing-density-ward.csv')\n",
    "cols = ['Code', 'Population', 'Year']\n",
    "\n",
    "df_wardpop = pd.read_csv(file, usecols = cols, encoding= 'unicode_escape')\n",
    "\n",
    "# Filter out only year 2011\n",
    "df_wardpop2011 = df_wardpop.loc[(df_wardpop['Year'] == 2011)]"
   ]
  },
  {
   "cell_type": "code",
   "execution_count": null,
   "id": "a19b11d9-121d-44b9-90b0-9a60aab12baf",
   "metadata": {},
   "outputs": [],
   "source": [
    "df_wardpop2011.head()"
   ]
  },
  {
   "cell_type": "code",
   "execution_count": null,
   "id": "f80c465a-9c78-4aa4-9de7-f9eb72ce318e",
   "metadata": {},
   "outputs": [],
   "source": [
    "# do a left join - population data and crime\n",
    "\n",
    "df_joinedcrime = pd.merge(df_crime, df_wardpop2011, left_on='Ward Code', right_on='Code', how='left')"
   ]
  },
  {
   "cell_type": "code",
   "execution_count": null,
   "id": "65094a28-d6ce-4a8b-84d8-5ff78f7cba90",
   "metadata": {},
   "outputs": [],
   "source": [
    "# Normalise data per resident\n",
    "\n",
    "df_joinedcrime['burglariesper1000residents'] = df_joinedcrime['total2009']/df_joinedcrime['Population']*1000"
   ]
  },
  {
   "cell_type": "code",
   "execution_count": null,
   "id": "5e68ffb1-6b2d-4527-a7b2-cb6112612f15",
   "metadata": {},
   "outputs": [],
   "source": [
    "# Keep relevant columns\n",
    "\n",
    "df_crimeNormalised = df_joinedcrime[['Ward Name', 'Ward Code', 'total2009', 'Population', 'burglariesper1000residents']]"
   ]
  },
  {
   "cell_type": "code",
   "execution_count": null,
   "id": "88e7d828-ff3c-4357-a0a4-f57c365456fc",
   "metadata": {},
   "outputs": [],
   "source": [
    "df_crimeNormalised.head()"
   ]
  },
  {
   "cell_type": "code",
   "execution_count": null,
   "id": "20ada345-f865-4a09-b965-53e51e58f441",
   "metadata": {},
   "outputs": [],
   "source": [
    "# Check if normalisation is accurate\n",
    "\n",
    "df_crimeNormalised = df_crimeNormalised.sort_values(by=['burglariesper1000residents'], ascending=True)"
   ]
  },
  {
   "cell_type": "code",
   "execution_count": null,
   "id": "b14fb367-0a84-4eb4-b405-7e2ceab1cc64",
   "metadata": {},
   "outputs": [],
   "source": [
    "df_crimeNormalised.head()"
   ]
  },
  {
   "cell_type": "code",
   "execution_count": null,
   "id": "ac6e0900-d153-4f89-8f0d-114b9d916681",
   "metadata": {},
   "outputs": [],
   "source": [
    "#### EDITED CODE BELOW - DON'T USE. REFER TO THE ONE YOU HAD ORIGINALLY."
   ]
  },
  {
   "cell_type": "code",
   "execution_count": null,
   "id": "fd22386c-8d15-4503-b5cd-3c63d98d9ccb",
   "metadata": {},
   "outputs": [],
   "source": [
    "# Merge into the boundary data\n",
    "df_merged_4 = pd.merge(boundary, df_crimeNormalised, left_on='GSS_CODE', right_on='Ward Code', how='left')\n",
    "\n",
    "# Cleaning up\n",
    "df_merged_4.drop(['Ward Name', 'Ward Code','total2009', 'Population'], axis=1, inplace=True)"
   ]
  },
  {
   "cell_type": "code",
   "execution_count": null,
   "id": "086ddf77-0a14-4b55-8e37-6a0108940408",
   "metadata": {},
   "outputs": [],
   "source": [
    "df_merged_4.plot(column='burglariesper1000residents', legend=True, figsize=(8,8))"
   ]
  }
 ],
 "metadata": {
  "kernelspec": {
   "display_name": "Python 3 (ipykernel)",
   "language": "python",
   "name": "python3"
  },
  "language_info": {
   "codemirror_mode": {
    "name": "ipython",
    "version": 3
   },
   "file_extension": ".py",
   "mimetype": "text/x-python",
   "name": "python",
   "nbconvert_exporter": "python",
   "pygments_lexer": "ipython3",
   "version": "3.9.6"
  }
 },
 "nbformat": 4,
 "nbformat_minor": 5
}
