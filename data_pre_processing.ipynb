{
 "cells": [
  {
   "cell_type": "markdown",
   "id": "69d01aec-dec0-4c62-8740-d12ab26cce5d",
   "metadata": {},
   "source": [
    "## This notebook is for pre-processing liveability factor data"
   ]
  },
  {
   "cell_type": "markdown",
   "id": "b70e7805-e350-488b-ac87-64865968c6d8",
   "metadata": {},
   "source": [
    "### 1. Setting up the coding environment (Nene)"
   ]
  },
  {
   "cell_type": "code",
   "execution_count": 1,
   "id": "9c1fa36f-8107-40bb-97a1-b107b283839d",
   "metadata": {},
   "outputs": [],
   "source": [
    "import os\n",
    "import matplotlib.pyplot as plt\n",
    "import numpy as np\n",
    "import pandas as pd"
   ]
  },
  {
   "cell_type": "code",
   "execution_count": 2,
   "id": "0f7f0836-8a0d-4f1a-ac15-c422d291e6f9",
   "metadata": {},
   "outputs": [],
   "source": [
    "# Function to save cleaned dataframe\n",
    "\n",
    "def save_data(dataframe, dest: str, name: str):\n",
    "    file = os.path.join(dest, name)  # dest/name\n",
    "\n",
    "    # If the file is not existing...\n",
    "    if not os.path.isfile(file):\n",
    "        print(f\"{file} not found, saving...\")\n",
    "        path = os.path.split(dest)  # dest1, dest2\n",
    "\n",
    "        # Make sure the destination file exits\n",
    "        if len(path) >= 1 and path[0] != \"\":\n",
    "            os.makedirs(os.path.join(*path), exist_ok=True)\n",
    "\n",
    "        # Save the file\n",
    "        dataframe.to_csv(file, index=False)\n",
    "\n",
    "        print(\"\\tDone saving.\")\n",
    "\n",
    "    else:\n",
    "        print(f\"Found {file} locally, done!\")\n",
    "\n",
    "    return"
   ]
  },
  {
   "cell_type": "markdown",
   "id": "143992f2-2b7d-48a6-851d-02d07b97b035",
   "metadata": {},
   "source": [
    "### 2. Housing data (Nene)"
   ]
  },
  {
   "cell_type": "code",
   "execution_count": 24,
   "id": "522c3551-0ce9-4ec0-b48f-79f6700795c6",
   "metadata": {},
   "outputs": [
    {
     "name": "stdout",
     "output_type": "stream",
     "text": [
      "<class 'pandas.core.frame.DataFrame'>\n",
      "RangeIndex: 660 entries, 0 to 659\n",
      "Data columns (total 3 columns):\n",
      " #   Column                         Non-Null Count  Dtype  \n",
      "---  ------                         --------------  -----  \n",
      " 0   Ward name                      660 non-null    object \n",
      " 1   New code                       660 non-null    object \n",
      " 2   Median House Price (£) - 2014  660 non-null    float64\n",
      "dtypes: float64(1), object(2)\n",
      "memory usage: 15.6+ KB\n"
     ]
    }
   ],
   "source": [
    "# Reading in the data\n",
    "\n",
    "file = os.path.join('data', 'raw', 'housing_data_ward.csv')\n",
    "cols = ['Ward name', 'New code', 'Median House Price (£) - 2014']\n",
    "\n",
    "\n",
    "df_housing = pd.read_csv(file, usecols = cols, encoding= 'unicode_escape')\n",
    "df_housing.info()"
   ]
  },
  {
   "cell_type": "code",
   "execution_count": 25,
   "id": "d481902c-607c-452d-8b75-318dca250a62",
   "metadata": {},
   "outputs": [],
   "source": [
    "# Renaming columns\n",
    "df_housing.rename(columns={\"Ward name\": \"ward_name\", \n",
    "                           \"New code\": \"new_code\",\n",
    "                           \"Median House Price (£) - 2014\": \"median_house\"},\n",
    "                  inplace=True)"
   ]
  },
  {
   "cell_type": "code",
   "execution_count": 26,
   "id": "1720a4be-8a6a-40e1-b94f-6614f1f78543",
   "metadata": {},
   "outputs": [
    {
     "data": {
      "text/plain": [
       "<AxesSubplot:ylabel='Frequency'>"
      ]
     },
     "execution_count": 26,
     "metadata": {},
     "output_type": "execute_result"
    },
    {
     "data": {
      "image/png": "[encoded data removed]",
      "text/plain": [
       "<Figure size 432x288 with 1 Axes>"
      ]
     },
     "metadata": {
      "needs_background": "light"
     },
     "output_type": "display_data"
    }
   ],
   "source": [
    "df_housing.median_house.plot.hist(bins=50)"
   ]
  },
  {
   "cell_type": "code",
   "execution_count": 29,
   "id": "11775e85-0f1d-49c5-9c55-1f27443e0cb0",
   "metadata": {},
   "outputs": [],
   "source": [
    "# Take logarithm\n",
    "df_housing[\"median_house_log\"]= np.log(df_housing.median_house)"
   ]
  },
  {
   "cell_type": "code",
   "execution_count": 30,
   "id": "cb4f15a5-3c60-4970-9996-47ff62c59b08",
   "metadata": {},
   "outputs": [
    {
     "data": {
      "text/plain": [
       "<AxesSubplot:ylabel='Frequency'>"
      ]
     },
     "execution_count": 30,
     "metadata": {},
     "output_type": "execute_result"
    },
    {
     "data": {
      "image/png": "[encoded data removed]",
      "text/plain": [
       "<Figure size 432x288 with 1 Axes>"
      ]
     },
     "metadata": {
      "needs_background": "light"
     },
     "output_type": "display_data"
    }
   ],
   "source": [
    "df_housing.median_house_log.plot.hist(bins=50)"
   ]
  },
  {
   "cell_type": "code",
   "execution_count": 31,
   "id": "700d5e89-d750-4b72-a8a6-7da851b3ab2e",
   "metadata": {},
   "outputs": [
    {
     "data": {
      "text/plain": [
       "0.4315805146349902"
      ]
     },
     "execution_count": 31,
     "metadata": {},
     "output_type": "execute_result"
    }
   ],
   "source": [
    "# Standard deviation of the new distribution:\n",
    "df_housing.median_house_log.std()"
   ]
  },
  {
   "cell_type": "code",
   "execution_count": 32,
   "id": "74d80551-588f-4d1b-9fc6-937eff268784",
   "metadata": {},
   "outputs": [
    {
     "data": {
      "text/plain": [
       "12.86974784026538"
      ]
     },
     "execution_count": 32,
     "metadata": {},
     "output_type": "execute_result"
    }
   ],
   "source": [
    "# Mean of the new distribution:\n",
    "df_housing.median_house_log.mean()"
   ]
  },
  {
   "cell_type": "markdown",
   "id": "47b5c528-1594-439d-a19c-5cb5a00987a8",
   "metadata": {},
   "source": [
    "### 3. Indexed liveability index (Richy)"
   ]
  },
  {
   "cell_type": "markdown",
   "id": "e95a805b-e432-4b7c-9707-e07e50118391",
   "metadata": {},
   "source": [
    "### 4. Combining and outputing data (Richy)"
   ]
  },
  {
   "cell_type": "code",
   "execution_count": null,
   "id": "81aa3a75-f569-4b9d-812b-11eb356de38f",
   "metadata": {},
   "outputs": [],
   "source": []
  },
  {
   "cell_type": "code",
   "execution_count": null,
   "id": "2712ef17-e157-494c-a697-22431fba8bff",
   "metadata": {},
   "outputs": [],
   "source": []
  },
  {
   "cell_type": "code",
   "execution_count": null,
   "id": "96ec8129-0c64-44c1-877c-c532ade78964",
   "metadata": {},
   "outputs": [],
   "source": [
    "# Saving the combined dataframe into csv\n",
    "'''\n",
    "dest = os.path.join(\"data\", \"clean\")\n",
    "name = \"df_data_final.csv\"\n",
    "\n",
    "save_data(df_combined, dest, name)\n",
    "'''"
   ]
  },
  {
   "cell_type": "markdown",
   "id": "9051793f-a0af-4659-87ed-ac319e07b266",
   "metadata": {},
   "source": [
    "### "
   ]
  }
 ],
 "metadata": {
  "kernelspec": {
   "display_name": "Python 3 (ipykernel)",
   "language": "python",
   "name": "python3"
  },
  "language_info": {
   "codemirror_mode": {
    "name": "ipython",
    "version": 3
   },
   "file_extension": ".py",
   "mimetype": "text/x-python",
   "name": "python",
   "nbconvert_exporter": "python",
   "pygments_lexer": "ipython3",
   "version": "3.9.6"
  }
 },
 "nbformat": 4,
 "nbformat_minor": 5
}
