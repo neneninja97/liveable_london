{
 "cells": [
  {
   "cell_type": "markdown",
   "id": "69d01aec-dec0-4c62-8740-d12ab26cce5d",
   "metadata": {
    "id": "69d01aec-dec0-4c62-8740-d12ab26cce5d"
   },
   "source": [
    "## This notebook is for pre-processing liveability factor data"
   ]
  },
  {
   "cell_type": "markdown",
   "id": "b70e7805-e350-488b-ac87-64865968c6d8",
   "metadata": {
    "id": "b70e7805-e350-488b-ac87-64865968c6d8"
   },
   "source": [
    "### 1. Setting up the coding environment (Nene)"
   ]
  },
  {
   "cell_type": "code",
   "execution_count": 13,
   "id": "9c1fa36f-8107-40bb-97a1-b107b283839d",
   "metadata": {
    "id": "9c1fa36f-8107-40bb-97a1-b107b283839d"
   },
   "outputs": [],
   "source": [
    "import os\n",
    "import matplotlib.pyplot as plt\n",
    "import numpy as np\n",
    "import pandas as pd\n",
    "from sklearn.preprocessing import RobustScaler"
   ]
  },
  {
   "cell_type": "code",
   "execution_count": 14,
   "id": "0f7f0836-8a0d-4f1a-ac15-c422d291e6f9",
   "metadata": {
    "id": "0f7f0836-8a0d-4f1a-ac15-c422d291e6f9"
   },
   "outputs": [],
   "source": [
    "# Function to save cleaned dataframe\n",
    "\n",
    "def save_data(dataframe, dest: str, name: str):\n",
    "    file = os.path.join(dest, name)  # dest/name\n",
    "\n",
    "    # If the file is not existing...\n",
    "    if not os.path.isfile(file):\n",
    "        print(f\"{file} not found, saving...\")\n",
    "        path = os.path.split(dest)  # dest1, dest2\n",
    "\n",
    "        # Make sure the destination file exits\n",
    "        if len(path) >= 1 and path[0] != \"\":\n",
    "            os.makedirs(os.path.join(*path), exist_ok=True)\n",
    "\n",
    "        # Save the file\n",
    "        dataframe.to_csv(file, index=False)\n",
    "\n",
    "        print(\"\\tDone saving.\")\n",
    "\n",
    "    else:\n",
    "        print(f\"Found {file} locally, done!\")\n",
    "\n",
    "    return"
   ]
  },
  {
   "cell_type": "markdown",
   "id": "143992f2-2b7d-48a6-851d-02d07b97b035",
   "metadata": {
    "id": "143992f2-2b7d-48a6-851d-02d07b97b035"
   },
   "source": [
    "### 2. Reading and cleaning data (Nene)"
   ]
  },
  {
   "cell_type": "markdown",
   "id": "7481dd28-8ce8-487a-84a4-fd66894dd68f",
   "metadata": {},
   "source": [
    "| Metric | Data | Unit | Year | Link |\n",
    "| :- | -: | :- | :-: | :- |\n",
    "| 1_Transportation | PTAL | Ward | 2013 | https://data.london.gov.uk/dataset/london-ward-well-being-scores |\n",
    "| 2_Neighbourhood | Green and open space access | Ward | 2013 | (same as above) |\n",
    "| 3_Opportunity | Average GCSE scores | Ward | 2013 | (same as above) |\n",
    "| 4_Housing | Median rent price | Ward | 2014* | https://data.london.gov.uk/dataset/ward-profiles-and-atlas |\n",
    "| 5_Environment | Pollution impact | Ward | 2008* | https://data.london.gov.uk/dataset/estimation-health-impacts-particulate-pollution-london |\n",
    "| 6_Safety | Road Collisions | Ward | 2013 | https://data.london.gov.uk/dataset/road-collisions-severity |\n",
    "| 7_Future prospect | Change in house price | Ward | (tbd)* | https://data.london.gov.uk/dataset/average-house-prices |"
   ]
  },
  {
   "cell_type": "code",
   "execution_count": 24,
   "id": "82001bc2-19d8-4bfa-bb57-1b8bde4c2aab",
   "metadata": {},
   "outputs": [],
   "source": [
    "# Initialise the dataframe to store all data\n",
    "df_combined = pd.DataFrame()"
   ]
  },
  {
   "cell_type": "markdown",
   "id": "b46e9e85-d2e6-4a32-8866-b2ffd12b67d6",
   "metadata": {},
   "source": [
    "#### 1 & 2 & 3 - from well-being scores"
   ]
  },
  {
   "cell_type": "code",
   "execution_count": 34,
   "id": "0709492f-d9e7-4c64-98cd-fa7b9b952c75",
   "metadata": {},
   "outputs": [],
   "source": [
    "# Reading in the data\n",
    "\n",
    "file = os.path.join('data', 'raw', 'well_being_data.csv')\n",
    "cols = ['Ward', 'New ward code', 'Public Transport Accessibility - 2013', \n",
    "        'Homes with access to open space & nature, and % greenspace - 2013',\n",
    "        'GCSE point scores - 2013', ]\n",
    "\n",
    "df_well_being = pd.read_csv(file, usecols = cols, encoding= 'unicode_escape')"
   ]
  },
  {
   "cell_type": "code",
   "execution_count": 37,
   "id": "0b520af0-8b72-4498-9f65-1619aa430c44",
   "metadata": {},
   "outputs": [
    {
     "name": "stdout",
     "output_type": "stream",
     "text": [
      "<class 'pandas.core.frame.DataFrame'>\n",
      "RangeIndex: 711 entries, 0 to 710\n",
      "Data columns (total 5 columns):\n",
      " #   Column              Non-Null Count  Dtype  \n",
      "---  ------              --------------  -----  \n",
      " 0   ward_code           659 non-null    object \n",
      " 1   ward_name           657 non-null    object \n",
      " 2   gcse_2013           660 non-null    float64\n",
      " 3   ptal_2013           659 non-null    float64\n",
      " 4   nature_access_2013  659 non-null    float64\n",
      "dtypes: float64(3), object(2)\n",
      "memory usage: 27.9+ KB\n"
     ]
    }
   ],
   "source": [
    "# Renaming columns\n",
    "df_well_being.rename(columns={\"Ward\": \"ward_name\", \n",
    "                           \"New ward code\": \"ward_code\",\n",
    "                           \"GCSE point scores - 2013\": \"gcse_2013\",\n",
    "                           \"Public Transport Accessibility - 2013\": \"ptal_2013\",\n",
    "                           \"Homes with access to open space & nature, and % greenspace - 2013\": 'nature_access_2013'},\n",
    "                  inplace=True)\n",
    "\n",
    "df_well_being.info()"
   ]
  },
  {
   "cell_type": "markdown",
   "id": "71147e0d-cc00-4d89-b575-2700e7d9737c",
   "metadata": {},
   "source": [
    "#### 4 - from ward atlas"
   ]
  },
  {
   "cell_type": "code",
   "execution_count": 36,
   "id": "522c3551-0ce9-4ec0-b48f-79f6700795c6",
   "metadata": {
    "colab": {
     "base_uri": "https://localhost:8080/",
     "height": 240
    },
    "id": "522c3551-0ce9-4ec0-b48f-79f6700795c6",
    "outputId": "dccf2a15-870a-419f-f947-8d6474271305"
   },
   "outputs": [],
   "source": [
    "# Reading in the data\n",
    "\n",
    "file = os.path.join('data', 'raw', 'ward_atlas.csv')\n",
    "cols = ['Ward name', 'New code', 'Median House Price (£) - 2014']\n",
    "\n",
    "df_housing = pd.read_csv(file, usecols = cols, encoding= 'unicode_escape')"
   ]
  },
  {
   "cell_type": "code",
   "execution_count": 38,
   "id": "3ec6f2d8-1497-4fb6-bc09-b3092ebd39d7",
   "metadata": {},
   "outputs": [
    {
     "name": "stdout",
     "output_type": "stream",
     "text": [
      "<class 'pandas.core.frame.DataFrame'>\n",
      "RangeIndex: 660 entries, 0 to 659\n",
      "Data columns (total 3 columns):\n",
      " #   Column             Non-Null Count  Dtype  \n",
      "---  ------             --------------  -----  \n",
      " 0   ward_name          660 non-null    object \n",
      " 1   ward_code          660 non-null    object \n",
      " 2   median_house_2014  660 non-null    float64\n",
      "dtypes: float64(1), object(2)\n",
      "memory usage: 15.6+ KB\n"
     ]
    }
   ],
   "source": [
    "# Renaming columns\n",
    "df_housing.rename(columns={\"Ward name\": \"ward_name\", \n",
    "                           \"New code\": \"ward_code\",\n",
    "                           \"Median House Price (£) - 2014\": \"median_house_2014\"},\n",
    "                  inplace=True)\n",
    "\n",
    "df_housing.info()"
   ]
  },
  {
   "cell_type": "markdown",
   "id": "eaa68a14-f77a-4e00-99c5-55199416f8d4",
   "metadata": {},
   "source": [
    "#### 5 - from pollution impact data"
   ]
  },
  {
   "cell_type": "code",
   "execution_count": 39,
   "id": "f0d8d96d-7c1e-4c8a-92fd-2db0b5ec984d",
   "metadata": {},
   "outputs": [],
   "source": [
    "# Reading in the data\n",
    "\n",
    "file = os.path.join('data', 'raw', 'air_pollution_mortality.csv')\n",
    "cols = ['Area Code', 'Area Name', 'PM2.5 Concentration (µg/m3)']\n",
    "\n",
    "df_pollution = pd.read_csv(file, usecols = cols, encoding= 'unicode_escape')"
   ]
  },
  {
   "cell_type": "code",
   "execution_count": 40,
   "id": "eff67b42-7f49-4d70-bb90-78ece1bb8a91",
   "metadata": {},
   "outputs": [
    {
     "name": "stdout",
     "output_type": "stream",
     "text": [
      "<class 'pandas.core.frame.DataFrame'>\n",
      "RangeIndex: 626 entries, 0 to 625\n",
      "Data columns (total 3 columns):\n",
      " #   Column           Non-Null Count  Dtype  \n",
      "---  ------           --------------  -----  \n",
      " 0   ward_code        626 non-null    object \n",
      " 1   ward_name        626 non-null    object \n",
      " 2   PM2.5_conc_2008  626 non-null    float64\n",
      "dtypes: float64(1), object(2)\n",
      "memory usage: 14.8+ KB\n"
     ]
    }
   ],
   "source": [
    "# Renaming columns\n",
    "df_pollution.rename(columns={\"Area Code\": \"ward_code\", \n",
    "                           \"Area Name\": \"ward_name\",\n",
    "                           \"PM2.5 Concentration (µg/m3)\": \"PM2.5_conc_2008\"},\n",
    "                  inplace=True)\n",
    "\n",
    "df_pollution.info()"
   ]
  },
  {
   "cell_type": "markdown",
   "id": "135820c4-cac6-41bc-8915-ef91ab1e88b8",
   "metadata": {},
   "source": [
    "#### 6 - from road collision severity data"
   ]
  },
  {
   "cell_type": "code",
   "execution_count": 28,
   "id": "556101e9-3143-4dc5-a1f2-5023af62203a",
   "metadata": {},
   "outputs": [
    {
     "name": "stdout",
     "output_type": "stream",
     "text": [
      "<class 'pandas.core.frame.DataFrame'>\n",
      "RangeIndex: 657 entries, 0 to 656\n",
      "Data columns (total 23 columns):\n",
      " #   Column       Non-Null Count  Dtype \n",
      "---  ------       --------------  ----- \n",
      " 0   ï»¿          657 non-null    object\n",
      " 1   Unnamed: 1   656 non-null    object\n",
      " 2   Unnamed: 2   656 non-null    object\n",
      " 3   2010         657 non-null    object\n",
      " 4   Unnamed: 4   657 non-null    object\n",
      " 5   Unnamed: 5   657 non-null    object\n",
      " 6   Unnamed: 6   657 non-null    object\n",
      " 7   2011         657 non-null    object\n",
      " 8   Unnamed: 8   657 non-null    object\n",
      " 9   Unnamed: 9   657 non-null    object\n",
      " 10  Unnamed: 10  657 non-null    object\n",
      " 11  2012         657 non-null    object\n",
      " 12  Unnamed: 12  657 non-null    object\n",
      " 13  Unnamed: 13  657 non-null    object\n",
      " 14  Unnamed: 14  657 non-null    object\n",
      " 15  2013         657 non-null    object\n",
      " 16  Unnamed: 16  657 non-null    object\n",
      " 17  Unnamed: 17  657 non-null    object\n",
      " 18  Unnamed: 18  657 non-null    object\n",
      " 19  2014         657 non-null    object\n",
      " 20  Unnamed: 20  657 non-null    object\n",
      " 21  Unnamed: 21  657 non-null    object\n",
      " 22  Unnamed: 22  657 non-null    object\n",
      "dtypes: object(23)\n",
      "memory usage: 118.2+ KB\n"
     ]
    }
   ],
   "source": [
    "# Reading in the data\n",
    "\n",
    "file = os.path.join('data', 'raw', 'road_collision.csv')\n",
    "\n",
    "df_collision = pd.read_csv(file, encoding= 'unicode_escape')\n",
    "df_collision.info()"
   ]
  },
  {
   "cell_type": "code",
   "execution_count": null,
   "id": "570552a6-b7e7-4a9d-a3ca-0979e00e4e6c",
   "metadata": {},
   "outputs": [],
   "source": [
    "# Renaming columns\n",
    "#(Take code from fsds on dimsneionality reduction -> pick out 2013 total or 2013 severe)"
   ]
  },
  {
   "cell_type": "markdown",
   "id": "a85236bd-2e0a-4d17-9f88-ad13ad0450cd",
   "metadata": {},
   "source": [
    "#### 7 - from average house price data (temporal trend)"
   ]
  },
  {
   "cell_type": "code",
   "execution_count": null,
   "id": "d24e5c62-cd45-49b7-a367-da11281b643b",
   "metadata": {},
   "outputs": [],
   "source": [
    "#tbd"
   ]
  },
  {
   "cell_type": "code",
   "execution_count": null,
   "id": "76863354-d7b3-453e-a707-a1c8200a0830",
   "metadata": {},
   "outputs": [],
   "source": []
  },
  {
   "cell_type": "markdown",
   "id": "82543bd4-d4d3-4609-8821-bb3a0c78f5dc",
   "metadata": {},
   "source": [
    "#### Combine 5 dataframes into 1 based on ward name"
   ]
  },
  {
   "cell_type": "code",
   "execution_count": null,
   "id": "f212e0c8-840a-4d75-87a3-75ac40b858b0",
   "metadata": {},
   "outputs": [],
   "source": [
    "# merge \n",
    "\n",
    "# all_data = pd.merge(livability_no_housing, df_housing, left_on='new_ward_code', right_on='new_code', how='inner')"
   ]
  },
  {
   "cell_type": "code",
   "execution_count": null,
   "id": "711fc70b-082e-4edb-9773-74181f428aea",
   "metadata": {},
   "outputs": [],
   "source": [
    "'''\n",
    "# save\n",
    "\n",
    "dest = os.path.join(\"data\", \"clean\")\n",
    "name = \"df_data_final.csv\"\n",
    "\n",
    "save_data(all_data, dest, name)\n",
    "'''"
   ]
  },
  {
   "cell_type": "markdown",
   "id": "7f817c78-394f-4b29-a0ee-4a1b44706d21",
   "metadata": {},
   "source": [
    "### 3. Creating statistical summary of the original data (Richy)"
   ]
  },
  {
   "cell_type": "code",
   "execution_count": 19,
   "id": "b171bb86-b54e-4d71-913a-98369d3be89a",
   "metadata": {},
   "outputs": [
    {
     "data": {
      "text/plain": [
       "4.273072535393911"
      ]
     },
     "execution_count": 19,
     "metadata": {},
     "output_type": "execute_result"
    }
   ],
   "source": [
    "# Find the skewness\n",
    "df_housing.median_house.skew()"
   ]
  },
  {
   "cell_type": "code",
   "execution_count": null,
   "id": "uixIXMsyMUP_",
   "metadata": {
    "id": "uixIXMsyMUP_"
   },
   "outputs": [],
   "source": [
    "# mean of each column\n",
    "all_data['Unemployment_rate_2013'].mean()\n",
    "all_data['Crime_rate_2013'].mean()\n",
    "all_data['Life_Expectancy_2009-13'].mean()\n",
    "all_data['GCSE_point_scores_2013'].mean()\n",
    "all_data['Public_Transport_Accessibility_2013'].mean()\n",
    "all_data['Homes_with access_to_open_space_nature'].mean()\n",
    "all_data['median_house'].mean()"
   ]
  },
  {
   "cell_type": "code",
   "execution_count": null,
   "id": "7b910fb3-fff8-470e-be60-5cd4f44076b8",
   "metadata": {},
   "outputs": [],
   "source": [
    "# standard devation of each column\n",
    "all_data['Unemployment_rate_2013'].std()\n",
    "all_data['Crime_rate_2013'].std()\n",
    "all_data['Life_Expectancy_2009-13'].std()\n",
    "all_data['GCSE_point_scores_2013'].std()\n",
    "all_data['Public_Transport_Accessibility_2013'].std()\n",
    "all_data['Homes_with access_to_open_space_nature'].std()\n",
    "all_data['median_house'].std()"
   ]
  },
  {
   "cell_type": "code",
   "execution_count": null,
   "id": "naVs8wI7P47h",
   "metadata": {
    "id": "naVs8wI7P47h"
   },
   "outputs": [],
   "source": [
    "all_data[[\"Unemployment_rate_2013\", \"Crime_rate_2013\", \"Life_Expectancy_2009-13\", \"GCSE_point_scores_2013\", \"Public_Transport_Accessibility_2013\", \"Homes_with access_to_open_space_nature\", \"median_house\"   ]].mean()"
   ]
  },
  {
   "cell_type": "code",
   "execution_count": null,
   "id": "GPJhO-h1M5QA",
   "metadata": {
    "id": "GPJhO-h1M5QA"
   },
   "outputs": [],
   "source": [
    "# print the skew\n",
    "print(all_data['Unemployment_rate_2013'].skew())\n",
    "print(all_data['Crime_rate_2013'].skew())\n",
    "print(all_data['Life_Expectancy_2009-13'].skew())\n",
    "print(all_data['GCSE_point_scores_2013'.skew())\n",
    "print(all_data['Public_Transport_Accessibility_2013'].skew())\n",
    "print(all_data['Homes_with access_to_open_space_nature'].skew())\n",
    "print(all_data['median_house'].skew())\n"
   ]
  },
  {
   "cell_type": "code",
   "execution_count": null,
   "id": "8UHeGDTtP7rM",
   "metadata": {
    "id": "8UHeGDTtP7rM"
   },
   "outputs": [],
   "source": [
    "all_data[[\"Unemployment_rate_2013\", \"Crime_rate_2013\", \"Life_Expectancy_2009-13\", \"GCSE_point_scores_2013\", \"Public_Transport_Accessibility_2013\", \"Homes_with access_to_open_space_nature\", \"median_house\"   ]].skew()"
   ]
  },
  {
   "cell_type": "code",
   "execution_count": 42,
   "id": "1720a4be-8a6a-40e1-b94f-6614f1f78543",
   "metadata": {
    "id": "1720a4be-8a6a-40e1-b94f-6614f1f78543",
    "outputId": "c1f6b818-ef82-4e15-869d-62f92f24f535"
   },
   "outputs": [
    {
     "data": {
      "text/plain": [
       "<AxesSubplot:ylabel='Frequency'>"
      ]
     },
     "execution_count": 42,
     "metadata": {},
     "output_type": "execute_result"
    },
    {
     "data": {
      "image/png": "[encoded data removed]",
      "text/plain": [
       "<Figure size 432x288 with 1 Axes>"
      ]
     },
     "metadata": {
      "needs_background": "light"
     },
     "output_type": "display_data"
    }
   ],
   "source": [
    "# Investigating the distribution\n",
    "df_housing.median_house_2014.plot.hist(bins=50)"
   ]
  },
  {
   "cell_type": "code",
   "execution_count": null,
   "id": "eXo1Z_atNipv",
   "metadata": {
    "id": "eXo1Z_atNipv"
   },
   "outputs": [],
   "source": [
    "all_data.Unemployment_rate_2013.plot.hist(bins=50)"
   ]
  },
  {
   "cell_type": "code",
   "execution_count": null,
   "id": "g8pZoJrvNnpA",
   "metadata": {
    "id": "g8pZoJrvNnpA"
   },
   "outputs": [],
   "source": [
    "all_data.Crime_rate_2013.plot.hist(bins=50)"
   ]
  },
  {
   "cell_type": "code",
   "execution_count": null,
   "id": "qMEfD2QtOej1",
   "metadata": {
    "id": "qMEfD2QtOej1"
   },
   "outputs": [],
   "source": [
    "all_data.Life_Expectancy_2009-13.plot.hist(bins=50)"
   ]
  },
  {
   "cell_type": "code",
   "execution_count": null,
   "id": "hLO7uif6Oe7M",
   "metadata": {
    "id": "hLO7uif6Oe7M"
   },
   "outputs": [],
   "source": [
    "all_data.GCSE_point_scores_2013.plot.hist(bins=50)"
   ]
  },
  {
   "cell_type": "code",
   "execution_count": null,
   "id": "GH74HLqDOgEp",
   "metadata": {
    "id": "GH74HLqDOgEp"
   },
   "outputs": [],
   "source": [
    "all_data.Public_Transport_Accessibility_2013.plot.hist(bins=50)"
   ]
  },
  {
   "cell_type": "code",
   "execution_count": null,
   "id": "-hFUT36yOhCI",
   "metadata": {
    "id": "-hFUT36yOhCI"
   },
   "outputs": [],
   "source": [
    "all_data.CHomes_with access_to_open_space_nature.plot.hist(bins=50)"
   ]
  },
  {
   "cell_type": "code",
   "execution_count": null,
   "id": "hXnV-j2ZOgmf",
   "metadata": {
    "id": "hXnV-j2ZOgmf"
   },
   "outputs": [],
   "source": [
    "all_data.median_house.plot.hist(bins=50)"
   ]
  },
  {
   "cell_type": "markdown",
   "id": "ddcc2440-17a9-489b-b651-44dd9ac9975b",
   "metadata": {},
   "source": [
    "### 4. Rescaling the data ready for clustering (Nene)"
   ]
  },
  {
   "cell_type": "code",
   "execution_count": 12,
   "id": "375d77a6-f2de-40b5-9b9c-9cf546acb60e",
   "metadata": {},
   "outputs": [],
   "source": [
    "# Initialise the robus recaler\n",
    "rbs = RobustScaler(quantile_range=[0.05,0.95])"
   ]
  },
  {
   "cell_type": "code",
   "execution_count": null,
   "id": "868d1537-4032-4fd5-aa1d-525ded6ca617",
   "metadata": {},
   "outputs": [],
   "source": [
    "# Rescale\n",
    "standardised_all_data = []\n",
    "\n",
    "for c in all_data:\n",
    "    standardised_all_data[c] = rbs.fit_transform(all_data[c].values.reshape(-1,1))\n",
    "    \n",
    "# Check\n",
    "standardised_all_data(3)"
   ]
  },
  {
   "cell_type": "markdown",
   "id": "6ea4ddec-f5ac-4c40-8735-3bb4de71b4a2",
   "metadata": {},
   "source": [
    "### 5. Summarise statisticcal summary of the rescaled data (Richy)"
   ]
  },
  {
   "cell_type": "code",
   "execution_count": null,
   "id": "25541eb0-8949-4dbb-a509-61a433456911",
   "metadata": {},
   "outputs": [],
   "source": []
  }
 ],
 "metadata": {
  "colab": {
   "collapsed_sections": [],
   "name": "data_pre_processing.ipynb",
   "provenance": []
  },
  "kernelspec": {
   "display_name": "Python 3 (ipykernel)",
   "language": "python",
   "name": "python3"
  },
  "language_info": {
   "codemirror_mode": {
    "name": "ipython",
    "version": 3
   },
   "file_extension": ".py",
   "mimetype": "text/x-python",
   "name": "python",
   "nbconvert_exporter": "python",
   "pygments_lexer": "ipython3",
   "version": "3.9.6"
  }
 },
 "nbformat": 4,
 "nbformat_minor": 5
}
